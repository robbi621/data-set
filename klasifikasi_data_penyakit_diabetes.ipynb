{
  "nbformat": 4,
  "nbformat_minor": 0,
  "metadata": {
    "colab": {
      "name": "klasifikasi_data_penyakit_diabetes.ipynb",
      "provenance": [],
      "include_colab_link": true
    },
    "kernelspec": {
      "name": "python3",
      "display_name": "Python 3"
    },
    "language_info": {
      "name": "python"
    }
  },
  "cells": [
    {
      "cell_type": "markdown",
      "metadata": {
        "id": "view-in-github",
        "colab_type": "text"
      },
      "source": [
        "<a href=\"https://colab.research.google.com/github/robbi621/data-set/blob/main/klasifikasi_data_penyakit_diabetes.ipynb\" target=\"_parent\"><img src=\"https://colab.research.google.com/assets/colab-badge.svg\" alt=\"Open In Colab\"/></a>"
      ]
    },
    {
      "cell_type": "markdown",
      "metadata": {
        "id": "bDbeoryvn34i"
      },
      "source": [
        "sebagai import library yang digunakan dan fungsi"
      ]
    },
    {
      "cell_type": "code",
      "metadata": {
        "id": "4_uulZNCxeHx"
      },
      "source": [
        "import pandas as pd\n",
        "import numpy as np"
      ],
      "execution_count": 1,
      "outputs": []
    },
    {
      "cell_type": "markdown",
      "metadata": {
        "id": "bzL-N609oCeo"
      },
      "source": [
        "sebagai inputan atau pengambilan dataset yang bernama diabetes_latih.csv"
      ]
    },
    {
      "cell_type": "code",
      "metadata": {
        "colab": {
          "base_uri": "https://localhost:8080/"
        },
        "id": "5BztGpWwPLK0",
        "outputId": "5286a869-f0d0-4df7-d123-a9647e807eb2"
      },
      "source": [
        "!wget -O diabetes_latih.csv https://raw.githubusercontent.com/jumadi-cloud/Fundamental-Python/main/Dataset/diabetes_latih.csv"
      ],
      "execution_count": 2,
      "outputs": [
        {
          "output_type": "stream",
          "name": "stdout",
          "text": [
            "--2021-10-01 02:10:28--  https://raw.githubusercontent.com/jumadi-cloud/Fundamental-Python/main/Dataset/diabetes_latih.csv\n",
            "Resolving raw.githubusercontent.com (raw.githubusercontent.com)... 185.199.108.133, 185.199.109.133, 185.199.110.133, ...\n",
            "Connecting to raw.githubusercontent.com (raw.githubusercontent.com)|185.199.108.133|:443... connected.\n",
            "HTTP request sent, awaiting response... 200 OK\n",
            "Length: 18518 (18K) [text/plain]\n",
            "Saving to: ‘diabetes_latih.csv’\n",
            "\n",
            "\rdiabetes_latih.csv    0%[                    ]       0  --.-KB/s               \rdiabetes_latih.csv  100%[===================>]  18.08K  --.-KB/s    in 0s      \n",
            "\n",
            "2021-10-01 02:10:28 (71.3 MB/s) - ‘diabetes_latih.csv’ saved [18518/18518]\n",
            "\n"
          ]
        }
      ]
    },
    {
      "cell_type": "markdown",
      "metadata": {
        "id": "dEbGgjrSoR89"
      },
      "source": [
        "sebagau inputan atau pengambilan data set yang bernama diabetes_uji.csv"
      ]
    },
    {
      "cell_type": "code",
      "metadata": {
        "colab": {
          "base_uri": "https://localhost:8080/"
        },
        "id": "2krHqeyXQi0I",
        "outputId": "cbee984a-ca37-4f84-b1c9-8142cf2c32b5"
      },
      "source": [
        "!wget -O diabetes_uji.csv https://raw.githubusercontent.com/jumadi-cloud/Fundamental-Python/main/Dataset/diabetes_uji.csv"
      ],
      "execution_count": 3,
      "outputs": [
        {
          "output_type": "stream",
          "name": "stdout",
          "text": [
            "--2021-10-01 02:10:29--  https://raw.githubusercontent.com/jumadi-cloud/Fundamental-Python/main/Dataset/diabetes_uji.csv\n",
            "Resolving raw.githubusercontent.com (raw.githubusercontent.com)... 185.199.108.133, 185.199.109.133, 185.199.110.133, ...\n",
            "Connecting to raw.githubusercontent.com (raw.githubusercontent.com)|185.199.108.133|:443... connected.\n",
            "HTTP request sent, awaiting response... 200 OK\n",
            "Length: 4685 (4.6K) [text/plain]\n",
            "Saving to: ‘diabetes_uji.csv’\n",
            "\n",
            "\rdiabetes_uji.csv      0%[                    ]       0  --.-KB/s               \rdiabetes_uji.csv    100%[===================>]   4.58K  --.-KB/s    in 0s      \n",
            "\n",
            "2021-10-01 02:10:29 (42.7 MB/s) - ‘diabetes_uji.csv’ saved [4685/4685]\n",
            "\n"
          ]
        }
      ]
    },
    {
      "cell_type": "markdown",
      "metadata": {
        "id": "KN9eUTtBowUV"
      },
      "source": [
        "melakukan pembacaan dari kedua data dan melakukan penghapusan colom yang tidak digunakan dan merubah kedua data menjadi data train"
      ]
    },
    {
      "cell_type": "code",
      "metadata": {
        "id": "XkWjKYwLPPvl"
      },
      "source": [
        "df = pd.read_csv('diabetes_latih.csv')\n",
        "\n",
        "X_train = df.values\n",
        "X_train = np.delete(X_train,8, axis=1)\n",
        "\n",
        "y_train = df['Outcome'].values\n",
        "\n",
        "df = pd.read_csv('diabetes_uji.csv')\n",
        "\n",
        "X_test = df.values\n",
        "X_test = np.delete(X_test,8,axis=1)\n",
        "\n",
        "y_test = df['Outcome'].values"
      ],
      "execution_count": 4,
      "outputs": []
    },
    {
      "cell_type": "markdown",
      "metadata": {
        "id": "tfqQXhbkqAfG"
      },
      "source": [
        "mengubah data berada di rentang 0 sampai 1 untuk mengurangi kesalahan "
      ]
    },
    {
      "cell_type": "code",
      "metadata": {
        "id": "dkYfQIEwRKMO"
      },
      "source": [
        "from sklearn.preprocessing import MinMaxScaler\n",
        "X_train = MinMaxScaler().fit_transform(X_train)\n",
        "X_test = MinMaxScaler().fit_transform(X_test)"
      ],
      "execution_count": 5,
      "outputs": []
    },
    {
      "cell_type": "markdown",
      "metadata": {
        "id": "JbkQQt9Oq7wv"
      },
      "source": [
        "membuat model sequential dam membuat model dense "
      ]
    },
    {
      "cell_type": "code",
      "metadata": {
        "id": "Sc5NDhONRbHJ"
      },
      "source": [
        "from keras.models import Sequential\n",
        "from keras.layers import Dense\n",
        "\n",
        "model = Sequential()\n",
        "\n",
        "model.add(Dense(12, activation='relu', input_shape=(8,)))\n",
        "\n",
        "model.add(Dense(8, activation='relu'))\n",
        "model.add(Dense(8, activation='relu'))\n",
        "\n",
        "model.add(Dense(1, activation='sigmoid'))\n",
        "\n",
        "model.compile(loss='binary_crossentropy', optimizer='adam', metrics=['accuracy'])"
      ],
      "execution_count": 6,
      "outputs": []
    },
    {
      "cell_type": "markdown",
      "metadata": {
        "id": "ApMQVhqSrwve"
      },
      "source": [
        "menampilkan model dari model sequential dan model dense"
      ]
    },
    {
      "cell_type": "code",
      "metadata": {
        "colab": {
          "base_uri": "https://localhost:8080/"
        },
        "id": "7zvk9lhyRgm7",
        "outputId": "64954446-cfde-4091-aa1f-190c0cd81313"
      },
      "source": [
        "model.summary()\n"
      ],
      "execution_count": 7,
      "outputs": [
        {
          "output_type": "stream",
          "name": "stdout",
          "text": [
            "Model: \"sequential\"\n",
            "_________________________________________________________________\n",
            "Layer (type)                 Output Shape              Param #   \n",
            "=================================================================\n",
            "dense (Dense)                (None, 12)                108       \n",
            "_________________________________________________________________\n",
            "dense_1 (Dense)              (None, 8)                 104       \n",
            "_________________________________________________________________\n",
            "dense_2 (Dense)              (None, 8)                 72        \n",
            "_________________________________________________________________\n",
            "dense_3 (Dense)              (None, 1)                 9         \n",
            "=================================================================\n",
            "Total params: 293\n",
            "Trainable params: 293\n",
            "Non-trainable params: 0\n",
            "_________________________________________________________________\n"
          ]
        }
      ]
    },
    {
      "cell_type": "markdown",
      "metadata": {
        "id": "msvek-9WtWBb"
      },
      "source": [
        "menampilkan data dari file csv"
      ]
    },
    {
      "cell_type": "code",
      "metadata": {
        "colab": {
          "base_uri": "https://localhost:8080/",
          "height": 206
        },
        "id": "FG0HcFPRRiWV",
        "outputId": "63c9435d-e125-4805-a8f7-a1b8f61a178f"
      },
      "source": [
        "df.head()\n"
      ],
      "execution_count": 8,
      "outputs": [
        {
          "output_type": "execute_result",
          "data": {
            "text/html": [
              "<div>\n",
              "<style scoped>\n",
              "    .dataframe tbody tr th:only-of-type {\n",
              "        vertical-align: middle;\n",
              "    }\n",
              "\n",
              "    .dataframe tbody tr th {\n",
              "        vertical-align: top;\n",
              "    }\n",
              "\n",
              "    .dataframe thead th {\n",
              "        text-align: right;\n",
              "    }\n",
              "</style>\n",
              "<table border=\"1\" class=\"dataframe\">\n",
              "  <thead>\n",
              "    <tr style=\"text-align: right;\">\n",
              "      <th></th>\n",
              "      <th>Pregnancies</th>\n",
              "      <th>Glucose</th>\n",
              "      <th>BloodPressure</th>\n",
              "      <th>SkinThickness</th>\n",
              "      <th>Insulin</th>\n",
              "      <th>BMI</th>\n",
              "      <th>DiabetesPedigreeFunction</th>\n",
              "      <th>Age</th>\n",
              "      <th>Outcome</th>\n",
              "    </tr>\n",
              "  </thead>\n",
              "  <tbody>\n",
              "    <tr>\n",
              "      <th>0</th>\n",
              "      <td>6</td>\n",
              "      <td>148</td>\n",
              "      <td>72</td>\n",
              "      <td>35</td>\n",
              "      <td>0</td>\n",
              "      <td>33.6</td>\n",
              "      <td>0.627</td>\n",
              "      <td>50</td>\n",
              "      <td>1</td>\n",
              "    </tr>\n",
              "    <tr>\n",
              "      <th>1</th>\n",
              "      <td>1</td>\n",
              "      <td>85</td>\n",
              "      <td>66</td>\n",
              "      <td>29</td>\n",
              "      <td>0</td>\n",
              "      <td>26.6</td>\n",
              "      <td>0.351</td>\n",
              "      <td>31</td>\n",
              "      <td>0</td>\n",
              "    </tr>\n",
              "    <tr>\n",
              "      <th>2</th>\n",
              "      <td>8</td>\n",
              "      <td>183</td>\n",
              "      <td>64</td>\n",
              "      <td>0</td>\n",
              "      <td>0</td>\n",
              "      <td>23.3</td>\n",
              "      <td>0.672</td>\n",
              "      <td>32</td>\n",
              "      <td>1</td>\n",
              "    </tr>\n",
              "    <tr>\n",
              "      <th>3</th>\n",
              "      <td>1</td>\n",
              "      <td>89</td>\n",
              "      <td>66</td>\n",
              "      <td>23</td>\n",
              "      <td>94</td>\n",
              "      <td>28.1</td>\n",
              "      <td>0.167</td>\n",
              "      <td>21</td>\n",
              "      <td>0</td>\n",
              "    </tr>\n",
              "    <tr>\n",
              "      <th>4</th>\n",
              "      <td>0</td>\n",
              "      <td>137</td>\n",
              "      <td>40</td>\n",
              "      <td>35</td>\n",
              "      <td>168</td>\n",
              "      <td>43.1</td>\n",
              "      <td>2.288</td>\n",
              "      <td>33</td>\n",
              "      <td>1</td>\n",
              "    </tr>\n",
              "  </tbody>\n",
              "</table>\n",
              "</div>"
            ],
            "text/plain": [
              "   Pregnancies  Glucose  BloodPressure  ...  DiabetesPedigreeFunction  Age  Outcome\n",
              "0            6      148             72  ...                     0.627   50        1\n",
              "1            1       85             66  ...                     0.351   31        0\n",
              "2            8      183             64  ...                     0.672   32        1\n",
              "3            1       89             66  ...                     0.167   21        0\n",
              "4            0      137             40  ...                     2.288   33        1\n",
              "\n",
              "[5 rows x 9 columns]"
            ]
          },
          "metadata": {},
          "execution_count": 8
        }
      ]
    },
    {
      "cell_type": "markdown",
      "metadata": {
        "id": "tTNQxyElsoDV"
      },
      "source": [
        "membuat model prediksi dari data train dengan y prediksinya 0.13"
      ]
    },
    {
      "cell_type": "code",
      "metadata": {
        "colab": {
          "base_uri": "https://localhost:8080/"
        },
        "id": "YtVcZGu8RqUz",
        "outputId": "7500c183-e856-4c3a-c58a-40133509008e"
      },
      "source": [
        "model.fit(X_train, y_train, epochs=200, verbose=1, batch_size=20)\n",
        "\n",
        "y_pred = model.predict(X_test)\n",
        "y_pred = y_pred >= 0.13"
      ],
      "execution_count": 9,
      "outputs": [
        {
          "output_type": "stream",
          "name": "stdout",
          "text": [
            "Epoch 1/200\n",
            "31/31 [==============================] - 1s 2ms/step - loss: 0.6826 - accuracy: 0.6173\n",
            "Epoch 2/200\n",
            "31/31 [==============================] - 0s 1ms/step - loss: 0.6613 - accuracy: 0.6531\n",
            "Epoch 3/200\n",
            "31/31 [==============================] - 0s 2ms/step - loss: 0.6451 - accuracy: 0.6515\n",
            "Epoch 4/200\n",
            "31/31 [==============================] - 0s 2ms/step - loss: 0.6375 - accuracy: 0.6515\n",
            "Epoch 5/200\n",
            "31/31 [==============================] - 0s 2ms/step - loss: 0.6307 - accuracy: 0.6515\n",
            "Epoch 6/200\n",
            "31/31 [==============================] - 0s 1ms/step - loss: 0.6243 - accuracy: 0.6515\n",
            "Epoch 7/200\n",
            "31/31 [==============================] - 0s 1ms/step - loss: 0.6150 - accuracy: 0.6515\n",
            "Epoch 8/200\n",
            "31/31 [==============================] - 0s 1ms/step - loss: 0.6039 - accuracy: 0.6564\n",
            "Epoch 9/200\n",
            "31/31 [==============================] - 0s 1ms/step - loss: 0.5919 - accuracy: 0.6726\n",
            "Epoch 10/200\n",
            "31/31 [==============================] - 0s 2ms/step - loss: 0.5806 - accuracy: 0.6906\n",
            "Epoch 11/200\n",
            "31/31 [==============================] - 0s 1ms/step - loss: 0.5686 - accuracy: 0.7085\n",
            "Epoch 12/200\n",
            "31/31 [==============================] - 0s 2ms/step - loss: 0.5574 - accuracy: 0.7280\n",
            "Epoch 13/200\n",
            "31/31 [==============================] - 0s 1ms/step - loss: 0.5477 - accuracy: 0.7215\n",
            "Epoch 14/200\n",
            "31/31 [==============================] - 0s 2ms/step - loss: 0.5374 - accuracy: 0.7345\n",
            "Epoch 15/200\n",
            "31/31 [==============================] - 0s 1ms/step - loss: 0.5308 - accuracy: 0.7410\n",
            "Epoch 16/200\n",
            "31/31 [==============================] - 0s 1ms/step - loss: 0.5216 - accuracy: 0.7427\n",
            "Epoch 17/200\n",
            "31/31 [==============================] - 0s 2ms/step - loss: 0.5176 - accuracy: 0.7345\n",
            "Epoch 18/200\n",
            "31/31 [==============================] - 0s 2ms/step - loss: 0.5096 - accuracy: 0.7345\n",
            "Epoch 19/200\n",
            "31/31 [==============================] - 0s 2ms/step - loss: 0.5048 - accuracy: 0.7362\n",
            "Epoch 20/200\n",
            "31/31 [==============================] - 0s 1ms/step - loss: 0.4989 - accuracy: 0.7443\n",
            "Epoch 21/200\n",
            "31/31 [==============================] - 0s 1ms/step - loss: 0.4936 - accuracy: 0.7541\n",
            "Epoch 22/200\n",
            "31/31 [==============================] - 0s 2ms/step - loss: 0.4879 - accuracy: 0.7573\n",
            "Epoch 23/200\n",
            "31/31 [==============================] - 0s 2ms/step - loss: 0.4838 - accuracy: 0.7687\n",
            "Epoch 24/200\n",
            "31/31 [==============================] - 0s 1ms/step - loss: 0.4818 - accuracy: 0.7704\n",
            "Epoch 25/200\n",
            "31/31 [==============================] - 0s 2ms/step - loss: 0.4807 - accuracy: 0.7557\n",
            "Epoch 26/200\n",
            "31/31 [==============================] - 0s 1ms/step - loss: 0.4743 - accuracy: 0.7752\n",
            "Epoch 27/200\n",
            "31/31 [==============================] - 0s 1ms/step - loss: 0.4695 - accuracy: 0.7752\n",
            "Epoch 28/200\n",
            "31/31 [==============================] - 0s 1ms/step - loss: 0.4675 - accuracy: 0.7769\n",
            "Epoch 29/200\n",
            "31/31 [==============================] - 0s 1ms/step - loss: 0.4654 - accuracy: 0.7638\n",
            "Epoch 30/200\n",
            "31/31 [==============================] - 0s 1ms/step - loss: 0.4604 - accuracy: 0.7752\n",
            "Epoch 31/200\n",
            "31/31 [==============================] - 0s 1ms/step - loss: 0.4603 - accuracy: 0.7818\n",
            "Epoch 32/200\n",
            "31/31 [==============================] - 0s 2ms/step - loss: 0.4614 - accuracy: 0.7834\n",
            "Epoch 33/200\n",
            "31/31 [==============================] - 0s 1ms/step - loss: 0.4534 - accuracy: 0.7785\n",
            "Epoch 34/200\n",
            "31/31 [==============================] - 0s 2ms/step - loss: 0.4514 - accuracy: 0.7818\n",
            "Epoch 35/200\n",
            "31/31 [==============================] - 0s 1ms/step - loss: 0.4520 - accuracy: 0.7866\n",
            "Epoch 36/200\n",
            "31/31 [==============================] - 0s 1ms/step - loss: 0.4526 - accuracy: 0.7866\n",
            "Epoch 37/200\n",
            "31/31 [==============================] - 0s 1ms/step - loss: 0.4486 - accuracy: 0.7899\n",
            "Epoch 38/200\n",
            "31/31 [==============================] - 0s 2ms/step - loss: 0.4451 - accuracy: 0.7866\n",
            "Epoch 39/200\n",
            "31/31 [==============================] - 0s 1ms/step - loss: 0.4444 - accuracy: 0.7866\n",
            "Epoch 40/200\n",
            "31/31 [==============================] - 0s 1ms/step - loss: 0.4419 - accuracy: 0.7915\n",
            "Epoch 41/200\n",
            "31/31 [==============================] - 0s 2ms/step - loss: 0.4404 - accuracy: 0.7964\n",
            "Epoch 42/200\n",
            "31/31 [==============================] - 0s 1ms/step - loss: 0.4433 - accuracy: 0.7899\n",
            "Epoch 43/200\n",
            "31/31 [==============================] - 0s 1ms/step - loss: 0.4457 - accuracy: 0.7850\n",
            "Epoch 44/200\n",
            "31/31 [==============================] - 0s 1ms/step - loss: 0.4402 - accuracy: 0.7899\n",
            "Epoch 45/200\n",
            "31/31 [==============================] - 0s 1ms/step - loss: 0.4441 - accuracy: 0.7736\n",
            "Epoch 46/200\n",
            "31/31 [==============================] - 0s 1ms/step - loss: 0.4377 - accuracy: 0.7866\n",
            "Epoch 47/200\n",
            "31/31 [==============================] - 0s 2ms/step - loss: 0.4375 - accuracy: 0.8013\n",
            "Epoch 48/200\n",
            "31/31 [==============================] - 0s 1ms/step - loss: 0.4327 - accuracy: 0.8013\n",
            "Epoch 49/200\n",
            "31/31 [==============================] - 0s 1ms/step - loss: 0.4371 - accuracy: 0.7948\n",
            "Epoch 50/200\n",
            "31/31 [==============================] - 0s 2ms/step - loss: 0.4371 - accuracy: 0.7948\n",
            "Epoch 51/200\n",
            "31/31 [==============================] - 0s 1ms/step - loss: 0.4363 - accuracy: 0.7834\n",
            "Epoch 52/200\n",
            "31/31 [==============================] - 0s 1ms/step - loss: 0.4323 - accuracy: 0.7899\n",
            "Epoch 53/200\n",
            "31/31 [==============================] - 0s 1ms/step - loss: 0.4315 - accuracy: 0.7932\n",
            "Epoch 54/200\n",
            "31/31 [==============================] - 0s 3ms/step - loss: 0.4310 - accuracy: 0.8078\n",
            "Epoch 55/200\n",
            "31/31 [==============================] - 0s 1ms/step - loss: 0.4270 - accuracy: 0.7964\n",
            "Epoch 56/200\n",
            "31/31 [==============================] - 0s 1ms/step - loss: 0.4324 - accuracy: 0.7997\n",
            "Epoch 57/200\n",
            "31/31 [==============================] - 0s 2ms/step - loss: 0.4272 - accuracy: 0.7883\n",
            "Epoch 58/200\n",
            "31/31 [==============================] - 0s 1ms/step - loss: 0.4279 - accuracy: 0.7932\n",
            "Epoch 59/200\n",
            "31/31 [==============================] - 0s 1ms/step - loss: 0.4241 - accuracy: 0.7997\n",
            "Epoch 60/200\n",
            "31/31 [==============================] - 0s 1ms/step - loss: 0.4348 - accuracy: 0.7997\n",
            "Epoch 61/200\n",
            "31/31 [==============================] - 0s 1ms/step - loss: 0.4247 - accuracy: 0.8013\n",
            "Epoch 62/200\n",
            "31/31 [==============================] - 0s 1ms/step - loss: 0.4231 - accuracy: 0.8046\n",
            "Epoch 63/200\n",
            "31/31 [==============================] - 0s 1ms/step - loss: 0.4215 - accuracy: 0.7980\n",
            "Epoch 64/200\n",
            "31/31 [==============================] - 0s 1ms/step - loss: 0.4216 - accuracy: 0.7915\n",
            "Epoch 65/200\n",
            "31/31 [==============================] - 0s 1ms/step - loss: 0.4206 - accuracy: 0.7899\n",
            "Epoch 66/200\n",
            "31/31 [==============================] - 0s 2ms/step - loss: 0.4232 - accuracy: 0.7899\n",
            "Epoch 67/200\n",
            "31/31 [==============================] - 0s 2ms/step - loss: 0.4187 - accuracy: 0.7980\n",
            "Epoch 68/200\n",
            "31/31 [==============================] - 0s 1ms/step - loss: 0.4171 - accuracy: 0.8013\n",
            "Epoch 69/200\n",
            "31/31 [==============================] - 0s 2ms/step - loss: 0.4214 - accuracy: 0.7883\n",
            "Epoch 70/200\n",
            "31/31 [==============================] - 0s 1ms/step - loss: 0.4199 - accuracy: 0.7915\n",
            "Epoch 71/200\n",
            "31/31 [==============================] - 0s 1ms/step - loss: 0.4200 - accuracy: 0.7964\n",
            "Epoch 72/200\n",
            "31/31 [==============================] - 0s 1ms/step - loss: 0.4200 - accuracy: 0.7997\n",
            "Epoch 73/200\n",
            "31/31 [==============================] - 0s 2ms/step - loss: 0.4193 - accuracy: 0.7980\n",
            "Epoch 74/200\n",
            "31/31 [==============================] - 0s 1ms/step - loss: 0.4210 - accuracy: 0.8078\n",
            "Epoch 75/200\n",
            "31/31 [==============================] - 0s 1ms/step - loss: 0.4200 - accuracy: 0.7883\n",
            "Epoch 76/200\n",
            "31/31 [==============================] - 0s 1ms/step - loss: 0.4219 - accuracy: 0.7980\n",
            "Epoch 77/200\n",
            "31/31 [==============================] - 0s 2ms/step - loss: 0.4173 - accuracy: 0.8078\n",
            "Epoch 78/200\n",
            "31/31 [==============================] - 0s 1ms/step - loss: 0.4175 - accuracy: 0.7932\n",
            "Epoch 79/200\n",
            "31/31 [==============================] - 0s 1ms/step - loss: 0.4169 - accuracy: 0.7980\n",
            "Epoch 80/200\n",
            "31/31 [==============================] - 0s 2ms/step - loss: 0.4191 - accuracy: 0.7980\n",
            "Epoch 81/200\n",
            "31/31 [==============================] - 0s 1ms/step - loss: 0.4169 - accuracy: 0.7915\n",
            "Epoch 82/200\n",
            "31/31 [==============================] - 0s 2ms/step - loss: 0.4198 - accuracy: 0.8143\n",
            "Epoch 83/200\n",
            "31/31 [==============================] - 0s 1ms/step - loss: 0.4150 - accuracy: 0.7948\n",
            "Epoch 84/200\n",
            "31/31 [==============================] - 0s 2ms/step - loss: 0.4132 - accuracy: 0.8046\n",
            "Epoch 85/200\n",
            "31/31 [==============================] - 0s 2ms/step - loss: 0.4195 - accuracy: 0.8013\n",
            "Epoch 86/200\n",
            "31/31 [==============================] - 0s 1ms/step - loss: 0.4137 - accuracy: 0.7997\n",
            "Epoch 87/200\n",
            "31/31 [==============================] - 0s 1ms/step - loss: 0.4116 - accuracy: 0.8013\n",
            "Epoch 88/200\n",
            "31/31 [==============================] - 0s 1ms/step - loss: 0.4128 - accuracy: 0.7932\n",
            "Epoch 89/200\n",
            "31/31 [==============================] - 0s 1ms/step - loss: 0.4140 - accuracy: 0.7948\n",
            "Epoch 90/200\n",
            "31/31 [==============================] - 0s 2ms/step - loss: 0.4105 - accuracy: 0.7997\n",
            "Epoch 91/200\n",
            "31/31 [==============================] - 0s 1ms/step - loss: 0.4150 - accuracy: 0.7964\n",
            "Epoch 92/200\n",
            "31/31 [==============================] - 0s 1ms/step - loss: 0.4113 - accuracy: 0.7980\n",
            "Epoch 93/200\n",
            "31/31 [==============================] - 0s 2ms/step - loss: 0.4129 - accuracy: 0.7932\n",
            "Epoch 94/200\n",
            "31/31 [==============================] - 0s 2ms/step - loss: 0.4127 - accuracy: 0.7948\n",
            "Epoch 95/200\n",
            "31/31 [==============================] - 0s 2ms/step - loss: 0.4107 - accuracy: 0.7997\n",
            "Epoch 96/200\n",
            "31/31 [==============================] - 0s 1ms/step - loss: 0.4116 - accuracy: 0.8029\n",
            "Epoch 97/200\n",
            "31/31 [==============================] - 0s 2ms/step - loss: 0.4104 - accuracy: 0.8046\n",
            "Epoch 98/200\n",
            "31/31 [==============================] - 0s 1ms/step - loss: 0.4181 - accuracy: 0.7964\n",
            "Epoch 99/200\n",
            "31/31 [==============================] - 0s 2ms/step - loss: 0.4094 - accuracy: 0.7932\n",
            "Epoch 100/200\n",
            "31/31 [==============================] - 0s 1ms/step - loss: 0.4107 - accuracy: 0.7980\n",
            "Epoch 101/200\n",
            "31/31 [==============================] - 0s 1ms/step - loss: 0.4070 - accuracy: 0.8078\n",
            "Epoch 102/200\n",
            "31/31 [==============================] - 0s 2ms/step - loss: 0.4098 - accuracy: 0.8013\n",
            "Epoch 103/200\n",
            "31/31 [==============================] - 0s 2ms/step - loss: 0.4127 - accuracy: 0.8029\n",
            "Epoch 104/200\n",
            "31/31 [==============================] - 0s 2ms/step - loss: 0.4065 - accuracy: 0.8013\n",
            "Epoch 105/200\n",
            "31/31 [==============================] - 0s 1ms/step - loss: 0.4087 - accuracy: 0.8062\n",
            "Epoch 106/200\n",
            "31/31 [==============================] - 0s 1ms/step - loss: 0.4058 - accuracy: 0.8078\n",
            "Epoch 107/200\n",
            "31/31 [==============================] - 0s 1ms/step - loss: 0.4062 - accuracy: 0.8013\n",
            "Epoch 108/200\n",
            "31/31 [==============================] - 0s 1ms/step - loss: 0.4053 - accuracy: 0.8094\n",
            "Epoch 109/200\n",
            "31/31 [==============================] - 0s 2ms/step - loss: 0.4125 - accuracy: 0.8062\n",
            "Epoch 110/200\n",
            "31/31 [==============================] - 0s 1ms/step - loss: 0.4109 - accuracy: 0.8029\n",
            "Epoch 111/200\n",
            "31/31 [==============================] - 0s 1ms/step - loss: 0.4030 - accuracy: 0.8094\n",
            "Epoch 112/200\n",
            "31/31 [==============================] - 0s 2ms/step - loss: 0.4016 - accuracy: 0.8127\n",
            "Epoch 113/200\n",
            "31/31 [==============================] - 0s 2ms/step - loss: 0.4023 - accuracy: 0.7997\n",
            "Epoch 114/200\n",
            "31/31 [==============================] - 0s 1ms/step - loss: 0.4111 - accuracy: 0.8078\n",
            "Epoch 115/200\n",
            "31/31 [==============================] - 0s 2ms/step - loss: 0.4063 - accuracy: 0.8127\n",
            "Epoch 116/200\n",
            "31/31 [==============================] - 0s 2ms/step - loss: 0.4060 - accuracy: 0.8013\n",
            "Epoch 117/200\n",
            "31/31 [==============================] - 0s 2ms/step - loss: 0.4022 - accuracy: 0.7997\n",
            "Epoch 118/200\n",
            "31/31 [==============================] - 0s 1ms/step - loss: 0.4020 - accuracy: 0.8078\n",
            "Epoch 119/200\n",
            "31/31 [==============================] - 0s 1ms/step - loss: 0.4026 - accuracy: 0.8094\n",
            "Epoch 120/200\n",
            "31/31 [==============================] - 0s 1ms/step - loss: 0.4030 - accuracy: 0.8046\n",
            "Epoch 121/200\n",
            "31/31 [==============================] - 0s 1ms/step - loss: 0.4062 - accuracy: 0.8013\n",
            "Epoch 122/200\n",
            "31/31 [==============================] - 0s 1ms/step - loss: 0.4080 - accuracy: 0.8094\n",
            "Epoch 123/200\n",
            "31/31 [==============================] - 0s 1ms/step - loss: 0.4022 - accuracy: 0.8094\n",
            "Epoch 124/200\n",
            "31/31 [==============================] - 0s 2ms/step - loss: 0.4011 - accuracy: 0.7997\n",
            "Epoch 125/200\n",
            "31/31 [==============================] - 0s 2ms/step - loss: 0.4055 - accuracy: 0.7997\n",
            "Epoch 126/200\n",
            "31/31 [==============================] - 0s 2ms/step - loss: 0.4049 - accuracy: 0.8143\n",
            "Epoch 127/200\n",
            "31/31 [==============================] - 0s 1ms/step - loss: 0.4015 - accuracy: 0.8078\n",
            "Epoch 128/200\n",
            "31/31 [==============================] - 0s 2ms/step - loss: 0.4069 - accuracy: 0.7964\n",
            "Epoch 129/200\n",
            "31/31 [==============================] - 0s 2ms/step - loss: 0.4083 - accuracy: 0.8013\n",
            "Epoch 130/200\n",
            "31/31 [==============================] - 0s 2ms/step - loss: 0.4175 - accuracy: 0.8013\n",
            "Epoch 131/200\n",
            "31/31 [==============================] - 0s 1ms/step - loss: 0.4081 - accuracy: 0.8062\n",
            "Epoch 132/200\n",
            "31/31 [==============================] - 0s 2ms/step - loss: 0.4035 - accuracy: 0.7980\n",
            "Epoch 133/200\n",
            "31/31 [==============================] - 0s 2ms/step - loss: 0.4002 - accuracy: 0.8111\n",
            "Epoch 134/200\n",
            "31/31 [==============================] - 0s 2ms/step - loss: 0.4030 - accuracy: 0.8127\n",
            "Epoch 135/200\n",
            "31/31 [==============================] - 0s 2ms/step - loss: 0.4000 - accuracy: 0.8176\n",
            "Epoch 136/200\n",
            "31/31 [==============================] - 0s 1ms/step - loss: 0.4055 - accuracy: 0.8062\n",
            "Epoch 137/200\n",
            "31/31 [==============================] - 0s 2ms/step - loss: 0.4021 - accuracy: 0.8160\n",
            "Epoch 138/200\n",
            "31/31 [==============================] - 0s 1ms/step - loss: 0.3995 - accuracy: 0.8062\n",
            "Epoch 139/200\n",
            "31/31 [==============================] - 0s 1ms/step - loss: 0.4011 - accuracy: 0.8029\n",
            "Epoch 140/200\n",
            "31/31 [==============================] - 0s 2ms/step - loss: 0.3972 - accuracy: 0.8094\n",
            "Epoch 141/200\n",
            "31/31 [==============================] - 0s 1ms/step - loss: 0.4014 - accuracy: 0.8160\n",
            "Epoch 142/200\n",
            "31/31 [==============================] - 0s 2ms/step - loss: 0.3987 - accuracy: 0.8029\n",
            "Epoch 143/200\n",
            "31/31 [==============================] - 0s 2ms/step - loss: 0.3983 - accuracy: 0.8062\n",
            "Epoch 144/200\n",
            "31/31 [==============================] - 0s 2ms/step - loss: 0.4000 - accuracy: 0.8046\n",
            "Epoch 145/200\n",
            "31/31 [==============================] - 0s 2ms/step - loss: 0.4022 - accuracy: 0.8029\n",
            "Epoch 146/200\n",
            "31/31 [==============================] - 0s 2ms/step - loss: 0.3999 - accuracy: 0.8046\n",
            "Epoch 147/200\n",
            "31/31 [==============================] - 0s 2ms/step - loss: 0.3986 - accuracy: 0.8046\n",
            "Epoch 148/200\n",
            "31/31 [==============================] - 0s 2ms/step - loss: 0.3973 - accuracy: 0.8062\n",
            "Epoch 149/200\n",
            "31/31 [==============================] - 0s 2ms/step - loss: 0.4040 - accuracy: 0.8094\n",
            "Epoch 150/200\n",
            "31/31 [==============================] - 0s 2ms/step - loss: 0.3992 - accuracy: 0.8111\n",
            "Epoch 151/200\n",
            "31/31 [==============================] - 0s 2ms/step - loss: 0.3993 - accuracy: 0.8111\n",
            "Epoch 152/200\n",
            "31/31 [==============================] - 0s 2ms/step - loss: 0.3983 - accuracy: 0.8078\n",
            "Epoch 153/200\n",
            "31/31 [==============================] - 0s 2ms/step - loss: 0.3967 - accuracy: 0.8078\n",
            "Epoch 154/200\n",
            "31/31 [==============================] - 0s 2ms/step - loss: 0.3974 - accuracy: 0.8029\n",
            "Epoch 155/200\n",
            "31/31 [==============================] - 0s 2ms/step - loss: 0.3963 - accuracy: 0.8127\n",
            "Epoch 156/200\n",
            "31/31 [==============================] - 0s 2ms/step - loss: 0.3961 - accuracy: 0.8062\n",
            "Epoch 157/200\n",
            "31/31 [==============================] - 0s 1ms/step - loss: 0.4006 - accuracy: 0.8013\n",
            "Epoch 158/200\n",
            "31/31 [==============================] - 0s 2ms/step - loss: 0.3965 - accuracy: 0.8143\n",
            "Epoch 159/200\n",
            "31/31 [==============================] - 0s 2ms/step - loss: 0.3989 - accuracy: 0.8127\n",
            "Epoch 160/200\n",
            "31/31 [==============================] - 0s 2ms/step - loss: 0.3981 - accuracy: 0.8029\n",
            "Epoch 161/200\n",
            "31/31 [==============================] - 0s 2ms/step - loss: 0.3990 - accuracy: 0.8176\n",
            "Epoch 162/200\n",
            "31/31 [==============================] - 0s 2ms/step - loss: 0.3957 - accuracy: 0.8127\n",
            "Epoch 163/200\n",
            "31/31 [==============================] - 0s 2ms/step - loss: 0.3974 - accuracy: 0.8192\n",
            "Epoch 164/200\n",
            "31/31 [==============================] - 0s 2ms/step - loss: 0.3993 - accuracy: 0.8111\n",
            "Epoch 165/200\n",
            "31/31 [==============================] - 0s 2ms/step - loss: 0.3980 - accuracy: 0.8176\n",
            "Epoch 166/200\n",
            "31/31 [==============================] - 0s 2ms/step - loss: 0.3964 - accuracy: 0.8160\n",
            "Epoch 167/200\n",
            "31/31 [==============================] - 0s 2ms/step - loss: 0.4013 - accuracy: 0.8029\n",
            "Epoch 168/200\n",
            "31/31 [==============================] - 0s 2ms/step - loss: 0.3973 - accuracy: 0.8062\n",
            "Epoch 169/200\n",
            "31/31 [==============================] - 0s 2ms/step - loss: 0.3952 - accuracy: 0.8127\n",
            "Epoch 170/200\n",
            "31/31 [==============================] - 0s 2ms/step - loss: 0.3976 - accuracy: 0.8160\n",
            "Epoch 171/200\n",
            "31/31 [==============================] - 0s 1ms/step - loss: 0.3952 - accuracy: 0.8094\n",
            "Epoch 172/200\n",
            "31/31 [==============================] - 0s 2ms/step - loss: 0.3948 - accuracy: 0.8029\n",
            "Epoch 173/200\n",
            "31/31 [==============================] - 0s 1ms/step - loss: 0.3927 - accuracy: 0.8062\n",
            "Epoch 174/200\n",
            "31/31 [==============================] - 0s 2ms/step - loss: 0.3945 - accuracy: 0.8029\n",
            "Epoch 175/200\n",
            "31/31 [==============================] - 0s 1ms/step - loss: 0.3946 - accuracy: 0.8111\n",
            "Epoch 176/200\n",
            "31/31 [==============================] - 0s 2ms/step - loss: 0.3954 - accuracy: 0.8062\n",
            "Epoch 177/200\n",
            "31/31 [==============================] - 0s 2ms/step - loss: 0.3946 - accuracy: 0.8127\n",
            "Epoch 178/200\n",
            "31/31 [==============================] - 0s 1ms/step - loss: 0.3941 - accuracy: 0.8078\n",
            "Epoch 179/200\n",
            "31/31 [==============================] - 0s 1ms/step - loss: 0.3966 - accuracy: 0.8062\n",
            "Epoch 180/200\n",
            "31/31 [==============================] - 0s 2ms/step - loss: 0.3958 - accuracy: 0.8176\n",
            "Epoch 181/200\n",
            "31/31 [==============================] - 0s 2ms/step - loss: 0.3924 - accuracy: 0.8013\n",
            "Epoch 182/200\n",
            "31/31 [==============================] - 0s 2ms/step - loss: 0.3964 - accuracy: 0.8046\n",
            "Epoch 183/200\n",
            "31/31 [==============================] - 0s 2ms/step - loss: 0.3909 - accuracy: 0.8111\n",
            "Epoch 184/200\n",
            "31/31 [==============================] - 0s 1ms/step - loss: 0.3956 - accuracy: 0.8160\n",
            "Epoch 185/200\n",
            "31/31 [==============================] - 0s 2ms/step - loss: 0.3948 - accuracy: 0.8176\n",
            "Epoch 186/200\n",
            "31/31 [==============================] - 0s 2ms/step - loss: 0.3913 - accuracy: 0.8078\n",
            "Epoch 187/200\n",
            "31/31 [==============================] - 0s 2ms/step - loss: 0.3937 - accuracy: 0.8094\n",
            "Epoch 188/200\n",
            "31/31 [==============================] - 0s 2ms/step - loss: 0.3898 - accuracy: 0.8160\n",
            "Epoch 189/200\n",
            "31/31 [==============================] - 0s 2ms/step - loss: 0.3974 - accuracy: 0.8094\n",
            "Epoch 190/200\n",
            "31/31 [==============================] - 0s 2ms/step - loss: 0.3923 - accuracy: 0.8176\n",
            "Epoch 191/200\n",
            "31/31 [==============================] - 0s 1ms/step - loss: 0.3975 - accuracy: 0.7948\n",
            "Epoch 192/200\n",
            "31/31 [==============================] - 0s 2ms/step - loss: 0.3953 - accuracy: 0.8094\n",
            "Epoch 193/200\n",
            "31/31 [==============================] - 0s 2ms/step - loss: 0.3937 - accuracy: 0.8062\n",
            "Epoch 194/200\n",
            "31/31 [==============================] - 0s 1ms/step - loss: 0.3963 - accuracy: 0.8013\n",
            "Epoch 195/200\n",
            "31/31 [==============================] - 0s 1ms/step - loss: 0.4044 - accuracy: 0.8013\n",
            "Epoch 196/200\n",
            "31/31 [==============================] - 0s 2ms/step - loss: 0.3947 - accuracy: 0.7997\n",
            "Epoch 197/200\n",
            "31/31 [==============================] - 0s 2ms/step - loss: 0.3944 - accuracy: 0.8127\n",
            "Epoch 198/200\n",
            "31/31 [==============================] - 0s 2ms/step - loss: 0.3923 - accuracy: 0.8062\n",
            "Epoch 199/200\n",
            "31/31 [==============================] - 0s 2ms/step - loss: 0.3903 - accuracy: 0.8094\n",
            "Epoch 200/200\n",
            "31/31 [==============================] - 0s 1ms/step - loss: 0.3914 - accuracy: 0.8143\n"
          ]
        }
      ]
    },
    {
      "cell_type": "markdown",
      "metadata": {
        "id": "NLNUtIhGs3aC"
      },
      "source": [
        "menampilkan akurasi dari prediksi data train dengan manampilkan akurasi score"
      ]
    },
    {
      "cell_type": "code",
      "metadata": {
        "colab": {
          "base_uri": "https://localhost:8080/"
        },
        "id": "n6iXe9vJRxcx",
        "outputId": "185c4473-afa1-4919-a302-97710fcb7299"
      },
      "source": [
        "from sklearn.metrics import accuracy_score\n",
        "\n",
        "round(accuracy_score(y_test, y_pred),3)"
      ],
      "execution_count": 10,
      "outputs": [
        {
          "output_type": "execute_result",
          "data": {
            "text/plain": [
              "0.571"
            ]
          },
          "metadata": {},
          "execution_count": 10
        }
      ]
    }
  ]
}